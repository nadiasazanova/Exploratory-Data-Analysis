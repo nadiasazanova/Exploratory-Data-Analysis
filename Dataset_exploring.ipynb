{
  "nbformat": 4,
  "nbformat_minor": 0,
  "metadata": {
    "colab": {
      "provenance": []
    },
    "kernelspec": {
      "name": "python3",
      "display_name": "Python 3"
    },
    "language_info": {
      "name": "python"
    }
  },
  "cells": [
    {
      "cell_type": "markdown",
      "source": [
        "I found the dataset called \"Top 100 Bestselling Book Reviews on Amazon\" (https://www.kaggle.com/datasets/anshtanwar/top-200-trending-books-with-reviews). The dataset includes two csv files, one of which is dedicated to the books and the second one is dedicated to the customer reviews."
      ],
      "metadata": {
        "id": "4HeDwf39Eo4O"
      }
    },
    {
      "cell_type": "code",
      "execution_count": 11,
      "metadata": {
        "colab": {
          "base_uri": "https://localhost:8080/"
        },
        "id": "hv2G7V-50AhF",
        "outputId": "60b7491f-3dd5-4320-df8b-a08cf9fcfa62"
      },
      "outputs": [
        {
          "output_type": "stream",
          "name": "stdout",
          "text": [
            "   Rank                                         book title  book price  \\\n",
            "0     1                       Iron Flame (The Empyrean, 2)       18.42   \n",
            "1     2                                    The Woman in Me       20.93   \n",
            "2     3                                  My Name Is Barbra       31.50   \n",
            "3     4  Friends, Lovers, and the Big Terrible Thing: A...       23.99   \n",
            "4     5                              How to Catch a Turkey        5.65   \n",
            "\n",
            "   rating            author  year of publication               genre  \\\n",
            "0     4.1    Rebecca Yarros                 2023     Fantasy Romance   \n",
            "1     4.5    Britney Spears                 2023              Memoir   \n",
            "2     4.5  Barbra Streisand                 2023       Autobiography   \n",
            "3     4.4     Matthew Perry                 2023              Memoir   \n",
            "4     4.8      Adam Wallace                 2018  Childrens, Fiction   \n",
            "\n",
            "                                                 url  \n",
            "0  amazon.com/Iron-Flame-Empyrean-Rebecca-Yarros/...  \n",
            "1  amazon.com/Woman-Me-Britney-Spears/dp/16680090...  \n",
            "2  amazon.com/My-Name-Barbra-Streisand/dp/0525429...  \n",
            "3  amazon.com/Friends-Lovers-Big-Terrible-Thing/d...  \n",
            "4  amazon.com/How-Catch-Turkey-Adam-Wallace/dp/14...  \n"
          ]
        }
      ],
      "source": [
        "# exploring the first csv file (books)\n",
        "import pandas as pd\n",
        "\n",
        "# Loading the dataset\n",
        "df = pd.read_csv('books.csv')\n",
        "# showing the first few lines\n",
        "print(df.head())\n",
        "\n",
        "\n",
        "\n"
      ]
    },
    {
      "cell_type": "code",
      "source": [
        "# Main information about the data\n",
        "print(df.info())\n",
        "\n",
        "# Statistical description\n",
        "print(df.describe())\n",
        "\n"
      ],
      "metadata": {
        "colab": {
          "base_uri": "https://localhost:8080/"
        },
        "id": "3qXENLqsCdVQ",
        "outputId": "e2daa36a-3990-4ed1-d216-f6a64a62e4f3"
      },
      "execution_count": 10,
      "outputs": [
        {
          "output_type": "stream",
          "name": "stdout",
          "text": [
            "<class 'pandas.core.frame.DataFrame'>\n",
            "RangeIndex: 100 entries, 0 to 99\n",
            "Data columns (total 8 columns):\n",
            " #   Column               Non-Null Count  Dtype  \n",
            "---  ------               --------------  -----  \n",
            " 0   Rank                 100 non-null    int64  \n",
            " 1   book title           100 non-null    object \n",
            " 2   book price           100 non-null    float64\n",
            " 3   rating               97 non-null     float64\n",
            " 4   author               100 non-null    object \n",
            " 5   year of publication  100 non-null    int64  \n",
            " 6   genre                100 non-null    object \n",
            " 7   url                  100 non-null    object \n",
            "dtypes: float64(2), int64(2), object(4)\n",
            "memory usage: 6.4+ KB\n",
            "None\n",
            "             Rank  book price     rating  year of publication\n",
            "count  100.000000  100.000000  97.000000            100.00000\n",
            "mean    50.500000   12.708600   4.689691           2013.76000\n",
            "std     29.011492    7.915568   0.181133             15.13049\n",
            "min      1.000000    2.780000   4.100000           1947.00000\n",
            "25%     25.750000    6.302500   4.600000           2014.00000\n",
            "50%     50.500000   11.480000   4.700000           2019.00000\n",
            "75%     75.250000   16.990000   4.800000           2023.00000\n",
            "max    100.000000   48.770000   5.000000           2024.00000\n"
          ]
        }
      ]
    },
    {
      "cell_type": "code",
      "source": [
        "# Data visualisation\n",
        "import matplotlib.pyplot as plt\n",
        "import seaborn as sns\n",
        "\n",
        "sns.histplot(df['author'])\n",
        "plt.show()"
      ],
      "metadata": {
        "colab": {
          "base_uri": "https://localhost:8080/",
          "height": 605
        },
        "id": "nEVD7yK-CnMa",
        "outputId": "3ae13e0f-15d7-436c-88fb-47e81fba6ae6"
      },
      "execution_count": 9,
      "outputs": [
        {
          "output_type": "stream",
          "name": "stdout",
          "text": [
            "Rank                   0\n",
            "book title             0\n",
            "book price             0\n",
            "rating                 3\n",
            "author                 0\n",
            "year of publication    0\n",
            "genre                  0\n",
            "url                    0\n",
            "dtype: int64\n"
          ]
        },
        {
          "output_type": "display_data",
          "data": {
            "text/plain": [
              "<Figure size 640x480 with 1 Axes>"
            ],
            "image/png": "[encoded data removed]"
          },
          "metadata": {}
        }
      ]
    },
    {
      "cell_type": "code",
      "source": [
        "# exploring the second csv file (customer reviews)\n",
        "import pandas as pd\n",
        "# Loading the dataset\n",
        "df1 = pd.read_csv('customer reviews.csv')\n",
        "# showing the first few lines\n",
        "print(df1.head())"
      ],
      "metadata": {
        "colab": {
          "base_uri": "https://localhost:8080/"
        },
        "id": "L0dEOW6-FXyW",
        "outputId": "9eb45cc0-1130-4f4f-bf69-8db20e2d19a0"
      },
      "execution_count": 13,
      "outputs": [
        {
          "output_type": "stream",
          "name": "stdout",
          "text": [
            "   Sno        book name                                       review title  \\\n",
            "0    0  The Woman in Me   Unbelievably impressive. Her torn life on paper.   \n",
            "1    1  The Woman in Me                         What a heartbreaking story   \n",
            "2    2  The Woman in Me  Britney you are so invincible! You are an insp...   \n",
            "3    3  The Woman in Me                               Fast Read, Sad Story   \n",
            "4    4  The Woman in Me                       Buy it, it’s worth the read!   \n",
            "\n",
            "           reviewer  reviewer rating  \\\n",
            "0  Murderess Marbie                4   \n",
            "1               L J                5   \n",
            "2             Jamie                5   \n",
            "3               KMG                5   \n",
            "4   Stephanie Brown                5   \n",
            "\n",
            "                                  review description  is_verified        date  \\\n",
            "0  I'm only a third way in. Shipped lightening fa...         True  26-10-2023   \n",
            "1  \"There have been so many times when I was scar...         True  06-11-2023   \n",
            "2  The media could not be loaded. I personally ha...         True  01-11-2023   \n",
            "3  I have been a fan of Britney's music since the...         True  25-10-2023   \n",
            "4  Whether or not you’re a fan, it’s a great read...         True  01-11-2023   \n",
            "\n",
            "                                        timestamp        ASIN  \n",
            "0  Reviewed in the United States October 26, 2023  1668009048  \n",
            "1  Reviewed in the United States November 6, 2023  1668009048  \n",
            "2  Reviewed in the United States November 1, 2023  1668009048  \n",
            "3  Reviewed in the United States October 25, 2023  1668009048  \n",
            "4  Reviewed in the United States November 1, 2023  1668009048  \n"
          ]
        }
      ]
    },
    {
      "cell_type": "code",
      "source": [
        "# Main information about the data\n",
        "print(df1.info())\n",
        "\n",
        "# Statistical description\n",
        "print(df1.describe())"
      ],
      "metadata": {
        "colab": {
          "base_uri": "https://localhost:8080/"
        },
        "id": "7_01Xhd2F_m1",
        "outputId": "2ec2dafd-a652-4958-a006-38208183ae69"
      },
      "execution_count": 14,
      "outputs": [
        {
          "output_type": "stream",
          "name": "stdout",
          "text": [
            "<class 'pandas.core.frame.DataFrame'>\n",
            "RangeIndex: 920 entries, 0 to 919\n",
            "Data columns (total 10 columns):\n",
            " #   Column              Non-Null Count  Dtype \n",
            "---  ------              --------------  ----- \n",
            " 0   Sno                 920 non-null    int64 \n",
            " 1   book name           920 non-null    object\n",
            " 2   review title        920 non-null    object\n",
            " 3   reviewer            920 non-null    object\n",
            " 4   reviewer rating     920 non-null    int64 \n",
            " 5   review description  920 non-null    object\n",
            " 6   is_verified         920 non-null    bool  \n",
            " 7   date                920 non-null    object\n",
            " 8   timestamp           920 non-null    object\n",
            " 9   ASIN                920 non-null    object\n",
            "dtypes: bool(1), int64(2), object(7)\n",
            "memory usage: 65.7+ KB\n",
            "None\n",
            "              Sno  reviewer rating\n",
            "count  920.000000       920.000000\n",
            "mean   459.500000         4.826087\n",
            "std    265.725422         0.432839\n",
            "min      0.000000         2.000000\n",
            "25%    229.750000         5.000000\n",
            "50%    459.500000         5.000000\n",
            "75%    689.250000         5.000000\n",
            "max    919.000000         5.000000\n"
          ]
        }
      ]
    },
    {
      "cell_type": "code",
      "source": [
        "# Data visualisation\n",
        "import matplotlib.pyplot as plt\n",
        "import seaborn as sns\n",
        "\n",
        "sns.histplot(df1['ASIN'])\n",
        "plt.show()"
      ],
      "metadata": {
        "colab": {
          "base_uri": "https://localhost:8080/",
          "height": 449
        },
        "id": "473Ls74jGGmJ",
        "outputId": "1dd837e7-e2c6-42f0-8696-f076a2515cbd"
      },
      "execution_count": 17,
      "outputs": [
        {
          "output_type": "display_data",
          "data": {
            "text/plain": [
              "<Figure size 640x480 with 1 Axes>"
            ],
            "image/png": "[encoded data removed]"
          },
          "metadata": {}
        }
      ]
    }
  ]
}